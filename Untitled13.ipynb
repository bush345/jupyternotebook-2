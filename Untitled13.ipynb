{
 "cells": [
  {
   "cell_type": "markdown",
   "id": "e25ca392-4534-4018-9f59-e9db69f583dc",
   "metadata": {},
   "source": [
    "# **My Jupyter Notebook on IBM Waston studio**"
   ]
  },
  {
   "cell_type": "markdown",
   "id": "059bb4ba-4211-4a3e-b8be-be13d1c5ba6c",
   "metadata": {},
   "source": [
    "**Bushra Naaz**"
   ]
  },
  {
   "cell_type": "markdown",
   "id": "36457b49-6ee4-4adb-b166-48588f432afc",
   "metadata": {},
   "source": [
    "__I am interested in data science because I love to gain insights from data__ "
   ]
  },
  {
   "cell_type": "markdown",
   "id": "52b85911-2f38-4274-8029-93d11a615ad8",
   "metadata": {},
   "source": [
    "**The following sum numbers**"
   ]
  },
  {
   "cell_type": "code",
   "execution_count": 2,
   "id": "f0518ba6-8f7c-49e8-bba2-f9f5cb7fa458",
   "metadata": {},
   "outputs": [
    {
     "data": {
      "text/plain": [
       "6"
      ]
     },
     "execution_count": 2,
     "metadata": {},
     "output_type": "execute_result"
    }
   ],
   "source": [
    "1+1\n",
    "2+4\n"
   ]
  },
  {
   "cell_type": "code",
   "execution_count": 3,
   "id": "513ff71c-457b-47db-a080-b65f72b53c45",
   "metadata": {},
   "outputs": [
    {
     "data": {
      "text/plain": [
       "68"
      ]
     },
     "execution_count": 3,
     "metadata": {},
     "output_type": "execute_result"
    }
   ],
   "source": [
    "23+45"
   ]
  },
  {
   "cell_type": "code",
   "execution_count": 4,
   "id": "785131cd-cea0-4f5a-a211-5a44673dea39",
   "metadata": {},
   "outputs": [
    {
     "data": {
      "text/plain": [
       "58"
      ]
     },
     "execution_count": 4,
     "metadata": {},
     "output_type": "execute_result"
    }
   ],
   "source": [
    "34+24"
   ]
  },
  {
   "cell_type": "markdown",
   "id": "5d3ecad6-e2ad-4643-a1d3-00df77a4334c",
   "metadata": {},
   "source": [
    "|Markdown|lesspetty|\n",
    "|--------|---------|\n",
    "|still   |renders  |\n",
    "|1       |2        |"
   ]
  },
  {
   "cell_type": "markdown",
   "id": "6951f972-ebd0-41fb-a4fa-d497c4456675",
   "metadata": {},
   "source": [
    "* one\n",
    "* two\n",
    "* three\n",
    "* one\n",
    "* two\n",
    "* three"
   ]
  },
  {
   "cell_type": "markdown",
   "id": "30dd8aaf-b6f8-457e-85d3-7cb01d68598f",
   "metadata": {},
   "source": [
    "{ this link is a bushra notebook}\n",
    "( https://www.bushranotebook.com)"
   ]
  },
  {
   "cell_type": "code",
   "execution_count": null,
   "id": "df821125-910d-428a-b976-817bd45b69ea",
   "metadata": {},
   "outputs": [],
   "source": []
  }
 ],
 "metadata": {
  "kernelspec": {
   "display_name": "Python",
   "language": "python",
   "name": "conda-env-python-py"
  },
  "language_info": {
   "codemirror_mode": {
    "name": "ipython",
    "version": 3
   },
   "file_extension": ".py",
   "mimetype": "text/x-python",
   "name": "python",
   "nbconvert_exporter": "python",
   "pygments_lexer": "ipython3",
   "version": "3.7.12"
  }
 },
 "nbformat": 4,
 "nbformat_minor": 5
}
